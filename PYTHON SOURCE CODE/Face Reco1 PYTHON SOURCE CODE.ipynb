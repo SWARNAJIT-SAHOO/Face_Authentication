{
 "cells": [
  {
   "cell_type": "code",
   "execution_count": 2,
   "id": "2197d48d-4aae-44e0-8bc8-30bff9986d32",
   "metadata": {},
   "outputs": [
    {
     "name": "stdout",
     "output_type": "stream",
     "text": [
      "Collecting mysql-connector-pythonNote: you may need to restart the kernel to use updated packages.\n",
      "\n",
      "  Downloading mysql_connector_python-9.0.0-cp312-cp312-win_amd64.whl.metadata (2.0 kB)\n",
      "Downloading mysql_connector_python-9.0.0-cp312-cp312-win_amd64.whl (14.3 MB)\n",
      "   ---------------------------------------- 0.0/14.3 MB ? eta -:--:--\n",
      "    --------------------------------------- 0.3/14.3 MB ? eta -:--:--\n",
      "   --- ------------------------------------ 1.3/14.3 MB 6.1 MB/s eta 0:00:03\n",
      "   ----- ---------------------------------- 1.8/14.3 MB 3.5 MB/s eta 0:00:04\n",
      "   -------- ------------------------------- 3.1/14.3 MB 4.3 MB/s eta 0:00:03\n",
      "   --------- ------------------------------ 3.4/14.3 MB 3.7 MB/s eta 0:00:03\n",
      "   ---------- ----------------------------- 3.9/14.3 MB 3.6 MB/s eta 0:00:03\n",
      "   ------------ --------------------------- 4.5/14.3 MB 3.3 MB/s eta 0:00:04\n",
      "   --------------- ------------------------ 5.5/14.3 MB 3.6 MB/s eta 0:00:03\n",
      "   ----------------- ---------------------- 6.3/14.3 MB 3.6 MB/s eta 0:00:03\n",
      "   ------------------- -------------------- 7.1/14.3 MB 3.7 MB/s eta 0:00:02\n",
      "   --------------------- ------------------ 7.9/14.3 MB 3.7 MB/s eta 0:00:02\n",
      "   ------------------------ --------------- 8.7/14.3 MB 3.7 MB/s eta 0:00:02\n",
      "   -------------------------- ------------- 9.4/14.3 MB 3.7 MB/s eta 0:00:02\n",
      "   ----------------------------- ---------- 10.5/14.3 MB 3.7 MB/s eta 0:00:02\n",
      "   ------------------------------- -------- 11.3/14.3 MB 3.7 MB/s eta 0:00:01\n",
      "   -------------------------------- ------- 11.8/14.3 MB 3.7 MB/s eta 0:00:01\n",
      "   ---------------------------------- ----- 12.3/14.3 MB 3.6 MB/s eta 0:00:01\n",
      "   -------------------------------------- - 13.6/14.3 MB 3.8 MB/s eta 0:00:01\n",
      "   ---------------------------------------  14.2/14.3 MB 3.8 MB/s eta 0:00:01\n",
      "   ---------------------------------------- 14.3/14.3 MB 3.7 MB/s eta 0:00:00\n",
      "Installing collected packages: mysql-connector-python\n",
      "Successfully installed mysql-connector-python-9.0.0\n"
     ]
    }
   ],
   "source": [
    "pip install mysql-connector-python"
   ]
  },
  {
   "cell_type": "code",
   "execution_count": 2,
   "id": "7a6ca76f",
   "metadata": {},
   "outputs": [
    {
     "name": "stdout",
     "output_type": "stream",
     "text": [
      "<mysql.connector.connection_cext.CMySQLConnection object at 0x000002C9433795B0>\n"
     ]
    }
   ],
   "source": [
    "import mysql.connector\n",
    "\n",
    "db = mysql.connector.connect(\n",
    "  host=\"localhost\",\n",
    "  user=\"root\",\n",
    "  password=\"rajaraja\",\n",
    "  database=\"user_authenticate\"\n",
    ")\n",
    "\n",
    "print(db)"
   ]
  },
  {
   "cell_type": "code",
   "execution_count": 3,
   "id": "f135b4cd",
   "metadata": {},
   "outputs": [
    {
     "data": {
      "text/plain": [
       "<mysql.connector.cursor_cext.CMySQLCursor at 0x2c943368410>"
      ]
     },
     "execution_count": 3,
     "metadata": {},
     "output_type": "execute_result"
    }
   ],
   "source": [
    "c = db.cursor()\n",
    "c"
   ]
  },
  {
   "cell_type": "code",
   "execution_count": 5,
   "id": "5380d326",
   "metadata": {},
   "outputs": [],
   "source": [
    "d = \"\"\"SELECT * FROM Userdetails\"\"\"\n",
    "c.execute(d)\n",
    "ans = c.fetchall()\n",
    "for e in ans:\n",
    "    print(e)\n",
    " "
   ]
  },
  {
   "cell_type": "code",
   "execution_count": 6,
   "id": "70a743eb",
   "metadata": {},
   "outputs": [
    {
     "name": "stdout",
     "output_type": "stream",
     "text": [
      "<mysql.connector.connection_cext.CMySQLConnection object at 0x000002C9436793A0>\n",
      "Table created successfully.\n"
     ]
    }
   ],
   "source": [
    "import mysql.connector\n",
    "\n",
    "db = mysql.connector.connect(\n",
    "  host=\"localhost\",\n",
    "  user=\"root\",\n",
    "  password=\"rajaraja\",\n",
    "  database=\"user_authenticate\"\n",
    ")\n",
    "\n",
    "print(db)\n",
    "# Connect to MySQL database\n",
    "\n",
    "cursorObject = db.cursor() \n",
    "# Create the userdetails table\n",
    "cursorObject.execute('''\n",
    "CREATE TABLE storage (\n",
    "    id INT AUTO_INCREMENT PRIMARY KEY,\n",
    "    name VARCHAR(255) NOT NULL,\n",
    "    email VARCHAR(255) NOT NULL,\n",
    "    phonenumber BIGINT NOT NULL,\n",
    "    age INT NOT NULL,\n",
    "    address VARCHAR(255) NOT NULL,\n",
    "    imagedata LONGBLOB,\n",
    "    fingerprint LONGBLOB,\n",
    "    occupation VARCHAR(255) NOT NULL\n",
    ")\n",
    "''')\n",
    "\n",
    "print(\"Table created successfully.\")\n"
   ]
  },
  {
   "cell_type": "code",
   "execution_count": 7,
   "id": "807fe1b8",
   "metadata": {},
   "outputs": [
    {
     "name": "stdout",
     "output_type": "stream",
     "text": [
      "Data inserted successfully.\n"
     ]
    }
   ],
   "source": [
    "import mysql.connector\n",
    "\n",
    "# # Connect to MySQL database\n",
    "# db = mysql.connector.connect(\n",
    "#   host=\"localhost\",\n",
    "#   user=\"root\",\n",
    "#   password=\"rajaraja\",\n",
    "#   database=\"user_authenticate\"\n",
    "# )\n",
    "\n",
    "cursorObject = db.cursor()\n",
    "\n",
    "# Sample data to insert\n",
    "name = \"swarnajit sahoo\"\n",
    "email = \"swarnajit@example.com\"\n",
    "phonenumber = 1234567890\n",
    "age = 30\n",
    "address = \"123 Main St\"\n",
    "occupation = \"Software Developer\"\n",
    "\n",
    "# Read image file\n",
    "with open(\"abc.jpg\", \"rb\") as file:\n",
    "    imagedata = file.read()\n",
    "\n",
    "# Read fingerprint file\n",
    "with open(\"abc.jpg\", \"rb\") as file:\n",
    "    fingerprint = file.read()\n",
    "\n",
    "# Insert data into the table\n",
    "sql = '''\n",
    "INSERT INTO storage (name, email, phonenumber, age, address, imagedata, fingerprint, occupation)\n",
    "VALUES (%s, %s, %s, %s, %s, %s, %s, %s)\n",
    "'''\n",
    "values = (name, email, phonenumber, age, address, imagedata, fingerprint, occupation)\n",
    "\n",
    "cursorObject.execute(sql, values)\n",
    "db.commit()\n",
    "\n",
    "print(\"Data inserted successfully.\")\n",
    "\n",
    "# Close the database connection\n",
    "db.close()\n"
   ]
  },
  {
   "cell_type": "code",
   "execution_count": 8,
   "id": "bfdbc554",
   "metadata": {},
   "outputs": [
    {
     "name": "stdout",
     "output_type": "stream",
     "text": [
      "Requirement already satisfied: Pillow in c:\\users\\91760\\appdata\\local\\programs\\python\\python312\\lib\\site-packages (10.4.0)Note: you may need to restart the kernel to use updated packages.\n",
      "\n"
     ]
    }
   ],
   "source": [
    "pip install Pillow\n"
   ]
  },
  {
   "cell_type": "code",
   "execution_count": 10,
   "id": "e43cd772",
   "metadata": {},
   "outputs": [],
   "source": [
    "import mysql.connector\n",
    "import base64\n",
    "from PIL import Image\n",
    "import io\n",
    "\n",
    "# Connect to MySQL database\n",
    "db = mysql.connector.connect(\n",
    "  host=\"localhost\",\n",
    "  user=\"root\",\n",
    "  password=\"rajaraja\",\n",
    "  database=\"user_authenticate\"\n",
    ")\n",
    "\n",
    "cursorObject = db.cursor()\n",
    "\n",
    "# Retrieve the image data\n",
    "cursorObject.execute(\"SELECT imagedata FROM storage WHERE id = %s\", (2,))\n",
    "image_data = cursorObject.fetchone()[0]\n",
    "\n",
    "# Decode the image data\n",
    "image = Image.open(io.BytesIO(image_data))\n",
    "\n",
    "# Display the image\n",
    "image.show()\n",
    "\n",
    "# Close the database connection\n",
    "db.close()\n"
   ]
  },
  {
   "cell_type": "markdown",
   "id": "b97672c6",
   "metadata": {},
   "source": [
    "# Start\n"
   ]
  },
  {
   "cell_type": "code",
   "execution_count": null,
   "id": "e8762138",
   "metadata": {},
   "outputs": [],
   "source": [
    "pip install tensorflow opencv-python\n"
   ]
  },
  {
   "cell_type": "markdown",
   "id": "7ff7e990",
   "metadata": {},
   "source": [
    "# model"
   ]
  },
  {
   "cell_type": "code",
   "execution_count": 4,
   "id": "f8d405e4",
   "metadata": {},
   "outputs": [
    {
     "name": "stdout",
     "output_type": "stream",
     "text": [
      "1/1 [==============================] - 3s 3s/step\n",
      "1/1 [==============================] - 0s 329ms/step\n",
      "Is Same: True\n",
      "Accuracy Level: 15.903830528259277%\n"
     ]
    }
   ],
   "source": [
    "import cv2\n",
    "import numpy as np\n",
    "import tensorflow as tf\n",
    "from tensorflow.keras.applications import ResNet50\n",
    "from tensorflow.keras.models import Model\n",
    "from tensorflow.keras.preprocessing import image\n",
    "from tensorflow.keras.applications.resnet50 import preprocess_input\n",
    "\n",
    "# Load the pre-trained ResNet50 model + higher level layers\n",
    "base_model = ResNet50(weights='imagenet')\n",
    "model = Model(inputs=base_model.input, outputs=base_model.get_layer('avg_pool').output)\n",
    "\n",
    "def preprocess_image(img_path):\n",
    "    img = image.load_img(img_path, target_size=(224, 224))\n",
    "    img_data = image.img_to_array(img)\n",
    "    img_data = np.expand_dims(img_data, axis=0)\n",
    "    img_data = preprocess_input(img_data)\n",
    "    return img_data\n",
    "\n",
    "def get_feature_vector(img_path):\n",
    "    img_data = preprocess_image(img_path)\n",
    "    feature_vector = model.predict(img_data)\n",
    "    # Normalize the feature vector\n",
    "    feature_vector = feature_vector / np.linalg.norm(feature_vector)\n",
    "    return feature_vector\n",
    "\n",
    "def compare_faces(image_path1, image_path2):\n",
    "    # Extract features from both images\n",
    "    features1 = get_feature_vector(image_path1)\n",
    "    features2 = get_feature_vector(image_path2)\n",
    "    \n",
    "    # Calculate the Euclidean distance between feature vectors\n",
    "    distance = np.linalg.norm(features1 - features2)\n",
    "    \n",
    "    # Define a threshold for similarity\n",
    "    threshold = 0.9  # This value may need to be adjusted\n",
    "    \n",
    "    is_same = distance < threshold\n",
    "    accuracy = max(0, 100 - distance * 100)\n",
    "    \n",
    "    return is_same, accuracy\n",
    "\n",
    "# Paths to the images\n",
    "image_path1 = \"11.jpg\"\n",
    "image_path2 = \"12.jpg\"\n",
    "\n",
    "# Compare the images\n",
    "is_same, accuracy = compare_faces(image_path1, image_path2)\n",
    "\n",
    "print(f\"Is Same: {is_same}\")\n",
    "if is_same:\n",
    "    print(f\"Accuracy Level: {accuracy}%\")\n",
    "else:\n",
    "    print(\"The images are not the same\")\n"
   ]
  },
  {
   "cell_type": "markdown",
   "id": "cbfd537a",
   "metadata": {},
   "source": [
    "# Connect DB\n"
   ]
  },
  {
   "cell_type": "code",
   "execution_count": 9,
   "id": "012b8c73",
   "metadata": {},
   "outputs": [
    {
     "name": "stdout",
     "output_type": "stream",
     "text": [
      " * Serving Flask app '__main__'\n",
      " * Debug mode: on\n"
     ]
    },
    {
     "name": "stderr",
     "output_type": "stream",
     "text": [
      "WARNING: This is a development server. Do not use it in a production deployment. Use a production WSGI server instead.\n",
      " * Running on http://127.0.0.1:5000\n",
      "Press CTRL+C to quit\n",
      " * Restarting with stat\n"
     ]
    },
    {
     "ename": "SystemExit",
     "evalue": "1",
     "output_type": "error",
     "traceback": [
      "An exception has occurred, use %tb to see the full traceback.\n",
      "\u001b[1;31mSystemExit\u001b[0m\u001b[1;31m:\u001b[0m 1\n"
     ]
    }
   ],
   "source": [
    "from flask import Flask, request, jsonify\n",
    "import cv2\n",
    "import numpy as np\n",
    "import tensorflow as tf\n",
    "from tensorflow.keras.applications import ResNet50\n",
    "from tensorflow.keras.models import Model\n",
    "from tensorflow.keras.preprocessing import image\n",
    "from tensorflow.keras.applications.resnet50 import preprocess_input\n",
    "\n",
    "app = Flask(__name__)\n",
    "\n",
    "# Load the pre-trained ResNet50 model + higher level layers\n",
    "base_model = ResNet50(weights='imagenet')\n",
    "model = Model(inputs=base_model.input, outputs=base_model.get_layer('avg_pool').output)\n",
    "\n",
    "def preprocess_image(img_path):\n",
    "    img = image.load_img(img_path, target_size=(224, 224))\n",
    "    img_data = image.img_to_array(img)\n",
    "    img_data = np.expand_dims(img_data, axis=0)\n",
    "    img_data = preprocess_input(img_data)\n",
    "    return img_data\n",
    "\n",
    "def get_feature_vector(img_path):\n",
    "    img_data = preprocess_image(img_path)\n",
    "    feature_vector = model.predict(img_data)\n",
    "    feature_vector = feature_vector / np.linalg.norm(feature_vector)\n",
    "    return feature_vector\n",
    "\n",
    "def compare_faces(image_path1, image_path2):\n",
    "    features1 = get_feature_vector(image_path1)\n",
    "    features2 = get_feature_vector(image_path2)\n",
    "    distance = np.linalg.norm(features1 - features2)\n",
    "    threshold = 0.9\n",
    "    is_same = distance < threshold\n",
    "    accuracy = max(0, 100 - distance * 100)\n",
    "    return is_same, accuracy\n",
    "\n",
    "@app.route('/compare', methods=['POST'])\n",
    "def compare():\n",
    "    file1 = request.files['image1']\n",
    "    \n",
    "    file1.save('image1.jpg')\n",
    "    file2.save(\"phot.jpg\")\n",
    "    is_same, accuracy = compare_faces('image1.jpg', 'phot.jpg')\n",
    "    return \"hello\"\n",
    "\n",
    "if __name__ == '__main__':\n",
    "    app.run(debug=True)\n"
   ]
  },
  {
   "cell_type": "markdown",
   "id": "31f9f5c7-ffc0-4c91-bb59-6b4f62b521c6",
   "metadata": {},
   "source": [
    "WWW"
   ]
  },
  {
   "cell_type": "code",
   "execution_count": 21,
   "id": "afa2151f-fcbf-4161-9c2c-35369c1cdee1",
   "metadata": {},
   "outputs": [
    {
     "name": "stdout",
     "output_type": "stream",
     "text": [
      "{'verified': True, 'distance': 0.4141506470949359, 'threshold': 0.68, 'model': 'VGG-Face', 'detector_backend': 'opencv', 'similarity_metric': 'cosine', 'facial_areas': {'img1': {'x': 524, 'y': 136, 'w': 262, 'h': 262, 'left_eye': None, 'right_eye': None}, 'img2': {'x': 140, 'y': 54, 'w': 167, 'h': 167, 'left_eye': (256, 118), 'right_eye': (191, 119)}}, 'time': 4.09}\n"
     ]
    }
   ],
   "source": [
    "from deepface import DeepFace\n",
    "\n",
    "result = DeepFace.verify(\n",
    "  img1_path = \"ph.jpg\",\n",
    "  img2_path = \"phot.jpg\",\n",
    ")\n",
    "print(result)"
   ]
  },
  {
   "cell_type": "code",
   "execution_count": 23,
   "id": "7258b9b9-6461-488d-83ab-08fc56e580e2",
   "metadata": {},
   "outputs": [
    {
     "name": "stdout",
     "output_type": "stream",
     "text": [
      "One or both images do not contain a face.\n"
     ]
    }
   ],
   "source": [
    "import cv2\n",
    "from deepface import DeepFace\n",
    "\n",
    "def detect_face(image_path):\n",
    "    # Load the image\n",
    "    img = cv2.imread(image_path)\n",
    "    # Convert to grayscale\n",
    "    gray = cv2.cvtColor(img, cv2.COLOR_BGR2GRAY)\n",
    "    # Load the pre-trained face detector from OpenCV\n",
    "    face_cascade = cv2.CascadeClassifier(cv2.data.haarcascades + 'haarcascade_frontalface_default.xml')\n",
    "    # Detect faces\n",
    "    faces = face_cascade.detectMultiScale(gray, scaleFactor=1.1, minNeighbors=5, minSize=(30, 30))\n",
    "    return len(faces) > 0\n",
    "\n",
    "img1_path = \"hostel.jpeg\"\n",
    "img2_path = \"phot.jpg\"\n",
    "\n",
    "if detect_face(img1_path) and detect_face(img2_path):\n",
    "    result = DeepFace.verify(img1_path=img1_path, img2_path=img2_path)\n",
    "    print(result)\n",
    "else:\n",
    "    print(\"One or both images do not contain a face.\")\n"
   ]
  },
  {
   "cell_type": "code",
   "execution_count": 6,
   "id": "476171ba-6172-4238-9e7f-43398e6b0192",
   "metadata": {},
   "outputs": [
    {
     "name": "stdout",
     "output_type": "stream",
     "text": [
      " * Serving Flask app '__main__'\n",
      " * Debug mode: off\n"
     ]
    },
    {
     "name": "stderr",
     "output_type": "stream",
     "text": [
      "WARNING: This is a development server. Do not use it in a production deployment. Use a production WSGI server instead.\n",
      " * Running on all addresses (0.0.0.0)\n",
      " * Running on http://127.0.0.1:5000\n",
      " * Running on http://192.168.29.13:5000\n",
      "Press CTRL+C to quit\n",
      "127.0.0.1 - - [26/Sep/2024 18:48:11] \"GET /ping HTTP/1.1\" 200 -\n",
      "127.0.0.1 - - [26/Sep/2024 18:48:11] \"GET /ping HTTP/1.1\" 200 -\n"
     ]
    }
   ],
   "source": [
    "#Normal CONNECTIVITY\n",
    "\n",
    "from flask import Flask\n",
    "from flask_cors import CORS\n",
    "\n",
    "app = Flask(__name__)\n",
    "CORS(app)\n",
    "\n",
    "@app.route('/ping', methods=['GET'])\n",
    "def ping():\n",
    "    return \"pong\"\n",
    "\n",
    "if __name__ == '__main__':\n",
    "    app.run(host='0.0.0.0')\n"
   ]
  },
  {
   "cell_type": "code",
   "execution_count": null,
   "id": "b10bcb78-8600-424c-908d-6ab4db924f3a",
   "metadata": {},
   "outputs": [
    {
     "name": "stdout",
     "output_type": "stream",
     "text": [
      "WARNING:tensorflow:From C:\\Users\\91760\\AppData\\Local\\Programs\\Python\\Python312\\Lib\\site-packages\\tf_keras\\src\\losses.py:2976: The name tf.losses.sparse_softmax_cross_entropy is deprecated. Please use tf.compat.v1.losses.sparse_softmax_cross_entropy instead.\n",
      "\n",
      " * Serving Flask app '__main__'\n",
      " * Debug mode: off\n"
     ]
    },
    {
     "name": "stderr",
     "output_type": "stream",
     "text": [
      "WARNING: This is a development server. Do not use it in a production deployment. Use a production WSGI server instead.\n",
      " * Running on all addresses (0.0.0.0)\n",
      " * Running on http://127.0.0.1:5000\n",
      " * Running on http://192.168.29.13:5000\n",
      "Press CTRL+C to quit\n",
      "127.0.0.1 - - [27/Oct/2024 18:57:51] \"POST /compare HTTP/1.1\" 200 -\n",
      "[2024-10-27 18:57:52,444] ERROR in app: Exception on /image/4 [GET]\n",
      "Traceback (most recent call last):\n",
      "  File \"C:\\Users\\91760\\AppData\\Local\\Programs\\Python\\Python312\\Lib\\site-packages\\PIL\\JpegImagePlugin.py\", line 639, in _save\n",
      "    rawmode = RAWMODE[im.mode]\n",
      "              ~~~~~~~^^^^^^^^^\n",
      "KeyError: 'RGBA'\n",
      "\n",
      "The above exception was the direct cause of the following exception:\n",
      "\n",
      "Traceback (most recent call last):\n",
      "  File \"C:\\Users\\91760\\AppData\\Local\\Programs\\Python\\Python312\\Lib\\site-packages\\flask\\app.py\", line 1473, in wsgi_app\n",
      "    response = self.full_dispatch_request()\n",
      "               ^^^^^^^^^^^^^^^^^^^^^^^^^^^^\n",
      "  File \"C:\\Users\\91760\\AppData\\Local\\Programs\\Python\\Python312\\Lib\\site-packages\\flask\\app.py\", line 882, in full_dispatch_request\n",
      "    rv = self.handle_user_exception(e)\n",
      "         ^^^^^^^^^^^^^^^^^^^^^^^^^^^^^\n",
      "  File \"C:\\Users\\91760\\AppData\\Local\\Programs\\Python\\Python312\\Lib\\site-packages\\flask_cors\\extension.py\", line 194, in wrapped_function\n",
      "    return cors_after_request(app.make_response(f(*args, **kwargs)))\n",
      "                                                ^^^^^^^^^^^^^^^^^^\n",
      "  File \"C:\\Users\\91760\\AppData\\Local\\Programs\\Python\\Python312\\Lib\\site-packages\\flask\\app.py\", line 880, in full_dispatch_request\n",
      "    rv = self.dispatch_request()\n",
      "         ^^^^^^^^^^^^^^^^^^^^^^^\n",
      "  File \"C:\\Users\\91760\\AppData\\Local\\Programs\\Python\\Python312\\Lib\\site-packages\\flask\\app.py\", line 865, in dispatch_request\n",
      "    return self.ensure_sync(self.view_functions[rule.endpoint])(**view_args)  # type: ignore[no-any-return]\n",
      "           ^^^^^^^^^^^^^^^^^^^^^^^^^^^^^^^^^^^^^^^^^^^^^^^^^^^^^^^^^^^^^^^^^\n",
      "  File \"C:\\Users\\91760\\AppData\\Local\\Temp\\ipykernel_11872\\1083786027.py\", line 105, in get_image\n",
      "    image.save(img_io, 'JPEG')\n",
      "  File \"C:\\Users\\91760\\AppData\\Local\\Programs\\Python\\Python312\\Lib\\site-packages\\PIL\\Image.py\", line 2568, in save\n",
      "    save_handler(self, fp, filename)\n",
      "  File \"C:\\Users\\91760\\AppData\\Local\\Programs\\Python\\Python312\\Lib\\site-packages\\PIL\\JpegImagePlugin.py\", line 642, in _save\n",
      "    raise OSError(msg) from e\n",
      "OSError: cannot write mode RGBA as JPEG\n",
      "127.0.0.1 - - [27/Oct/2024 18:57:52] \"GET /image/4 HTTP/1.1\" 500 -\n",
      "127.0.0.1 - - [27/Oct/2024 18:58:14] \"POST /compare HTTP/1.1\" 200 -\n",
      "127.0.0.1 - - [27/Oct/2024 18:58:14] \"GET /image/1 HTTP/1.1\" 200 -\n"
     ]
    }
   ],
   "source": [
    "from flask import Flask, request, jsonify, send_file\n",
    "from deepface import DeepFace\n",
    "import cv2\n",
    "from flask_cors import CORS\n",
    "import mysql.connector\n",
    "import os\n",
    "import io\n",
    "from PIL import Image\n",
    "\n",
    "app = Flask(__name__)\n",
    "CORS(app)\n",
    "\n",
    "db = mysql.connector.connect(\n",
    "    host=\"localhost\",\n",
    "    user=\"root\",\n",
    "    password=\"rajaraja\",\n",
    "    database=\"user_authenticate\"\n",
    ")\n",
    "cursorObject = db.cursor()\n",
    "\n",
    "@app.route('/upload', methods=['POST'])\n",
    "def upload_data():\n",
    "    try:\n",
    "        data = request.form\n",
    "        name = data['name']\n",
    "        email = data['email']\n",
    "        phonenumber = data['phonenumber']\n",
    "        age = data['age']\n",
    "        address = data['address']\n",
    "        occupation = data['occupation']\n",
    "        imagedata = request.files['file'].read()\n",
    "        fingerprint = request.files['fingerprint'].read()\n",
    "\n",
    "        sql = '''\n",
    "        INSERT INTO storage (name, email, phonenumber, age, address, imagedata, fingerprint, occupation)\n",
    "        VALUES (%s, %s, %s, %s, %s, %s, %s, %s)\n",
    "        '''\n",
    "        values = (name, email, phonenumber, age, address, imagedata, fingerprint, occupation)\n",
    "\n",
    "        cursorObject.execute(sql, values)\n",
    "        db.commit()\n",
    "\n",
    "        return jsonify({\"message\": \"Data inserted successfully.\"}), 200\n",
    "    except Exception as e:\n",
    "        print(f\"Error: {e}\")\n",
    "        return jsonify({\"message\": \"Failed to insert data.\"}), 500\n",
    "\n",
    "def detect_face(image_path):\n",
    "    img = cv2.imread(image_path)\n",
    "    if img is None:\n",
    "        raise ValueError(f\"Image at path {image_path} could not be read.\")\n",
    "    gray = cv2.cvtColor(img, cv2.COLOR_BGR2GRAY)\n",
    "    face_cascade = cv2.CascadeClassifier(cv2.data.haarcascades + 'haarcascade_frontalface_default.xml')\n",
    "    faces = face_cascade.detectMultiScale(gray, scaleFactor=1.1, minNeighbors=5, minSize=(30, 30))\n",
    "    return len(faces) > 0\n",
    "\n",
    "def compare_faces(img1_path, img2_path):\n",
    "    try:\n",
    "        if detect_face(img1_path) and detect_face(img2_path):\n",
    "            result = DeepFace.verify(img1_path=img1_path, img2_path=img2_path, enforce_detection=False)\n",
    "            return result[\"verified\"], result[\"distance\"]\n",
    "        else:\n",
    "            return False, None\n",
    "    except Exception as e:\n",
    "        print(f\"Error while comparing faces: {e}\")\n",
    "        return False, None\n",
    "\n",
    "@app.route('/compare', methods=['POST'])\n",
    "def compare():\n",
    "    file1 = request.files['image1']\n",
    "    file1.save('image1.jpg')\n",
    "\n",
    "    cursorObject.execute(\"SELECT id, name, email, phonenumber, age, address, imagedata, fingerprint, occupation FROM storage\")\n",
    "    rows = cursorObject.fetchall()\n",
    "\n",
    "    for row in rows:\n",
    "        with open('db_image.jpg', 'wb') as f:\n",
    "            f.write(row[6])  # Assuming imagedata is at index 6\n",
    "\n",
    "        if os.path.exists('db_image.jpg'):\n",
    "            is_same, distance = compare_faces('image1.jpg', 'db_image.jpg')\n",
    "            if is_same:\n",
    "                return jsonify({\n",
    "                   \"id\": row[0],\n",
    "                    \"name\": row[1],\n",
    "                    \"email\": row[2],\n",
    "                    \"phonenumber\": row[3],\n",
    "                    \"age\": row[4],\n",
    "                    \"address\": row[5],\n",
    "                    \"occupation\": row[8],\n",
    "                    \"distance\": distance,\n",
    "                    \"image_url\": f\"/image/{row[0]}\"\n",
    "                })\n",
    "\n",
    "    return jsonify({\"message\": \"No matching image found.\"}), 404\n",
    "\n",
    "@app.route('/image/<int:id>', methods=['GET'])\n",
    "def get_image(id):\n",
    "    cursorObject.execute(\"SELECT imagedata FROM storage WHERE id = %s\", (id,))\n",
    "    row = cursorObject.fetchone()\n",
    "    if row:\n",
    "        image_data = row[0]\n",
    "        image = Image.open(io.BytesIO(image_data))\n",
    "        img_io = io.BytesIO()\n",
    "        image.save(img_io, 'JPEG')\n",
    "        img_io.seek(0)\n",
    "        return send_file(img_io, mimetype='image/jpeg')\n",
    "    return jsonify({\"message\": \"Image not found.\"}), 404\n",
    "\n",
    "if __name__ == '__main__':\n",
    "    app.run(host='0.0.0.0')\n"
   ]
  },
  {
   "cell_type": "code",
   "execution_count": null,
   "id": "e7cb9cc6-0336-4f5d-ab62-ef6ee7f8aa2d",
   "metadata": {},
   "outputs": [],
   "source": []
  },
  {
   "cell_type": "code",
   "execution_count": null,
   "id": "8fea4f46-b224-442d-a0aa-59bff815459e",
   "metadata": {},
   "outputs": [],
   "source": []
  }
 ],
 "metadata": {
  "kernelspec": {
   "display_name": "Python 3 (ipykernel)",
   "language": "python",
   "name": "python3"
  },
  "language_info": {
   "codemirror_mode": {
    "name": "ipython",
    "version": 3
   },
   "file_extension": ".py",
   "mimetype": "text/x-python",
   "name": "python",
   "nbconvert_exporter": "python",
   "pygments_lexer": "ipython3",
   "version": "3.12.6"
  }
 },
 "nbformat": 4,
 "nbformat_minor": 5
}
